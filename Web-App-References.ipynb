{
 "cells": [
  {
   "cell_type": "markdown",
   "metadata": {},
   "source": [
    "Flask Tutorials:<br>\n",
    "https://www.youtube.com/watch?v=mqhxxeeTbu0&list=PLzMcBGfZo4-n4vJJybUVV3Un_NFS5EOgX<br>\n",
    "https://www.youtube.com/watch?v=6WruncSoCdI&t=1304s<br>\n",
    "https://www.youtube.com/watch?v=mrExsjcvF4o<br>\n",
    "https://blog.cambridgespark.com/deploying-a-machine-learning-model-to-the-web-725688b851c7<br>\n",
    "https://towardsdatascience.com/build-and-deploy-your-first-machine-learning-web-app-e020db344a99<br>\n",
    "<br>\n",
    "CSS Tutorials:<br>\n",
    "https://www.youtube.com/watch?v=yfoY53QXEnI<br>\n",
    "https://www.youtube.com/watch?v=qKoajPPWpmo&list=PLr6-GrHUlVf8JIgLcu3sHigvQjTw_aC9C<br>\n",
    "https://www.w3schools.com/css/<br>\n",
    "https://www.tutorialspoint.com/css/index.htm<br>\n",
    "<br>\n",
    "HTML Tutorials:<br>\n",
    "https://www.w3schools.com/html/default.asp<br>\n",
    "https://www.youtube.com/watch?v=dD2EISBDjWM<br>\n",
    "https://www.youtube.com/watch?v=PlxWf493en4<br>"
   ]
  },
  {
   "cell_type": "markdown",
   "metadata": {},
   "source": []
  }
 ],
 "metadata": {
  "kernelspec": {
   "display_name": "Python 3",
   "language": "python",
   "name": "python3"
  },
  "language_info": {
   "codemirror_mode": {
    "name": "ipython",
    "version": 3
   },
   "file_extension": ".py",
   "mimetype": "text/x-python",
   "name": "python",
   "nbconvert_exporter": "python",
   "pygments_lexer": "ipython3",
   "version": "3.7.7"
  }
 },
 "nbformat": 4,
 "nbformat_minor": 4
}
