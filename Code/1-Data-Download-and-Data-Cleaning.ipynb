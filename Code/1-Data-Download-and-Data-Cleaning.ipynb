{
 "cells": [
  {
   "cell_type": "markdown",
   "metadata": {},
   "source": [
    "# Capstone Project:\n",
    "# Data Download and Data Cleaning"
   ]
  },
  {
   "cell_type": "markdown",
   "metadata": {},
   "source": [
    "## Chosen Source of Data"
   ]
  },
  {
   "cell_type": "markdown",
   "metadata": {},
   "source": [
    "- Train the caption generator on the captions and images of Atlas Obscura.<br>\n",
    "- Atlas Obscura is an online magazine and travel company. It was founded in 2009 by author Joshua Foer and documentary filmmaker/author Dylan Thuras. It catalogs unusual and obscure travel destinations via user-generated content.\n",
    "- https://www.atlasobscura.com/places"
   ]
  },
  {
   "cell_type": "markdown",
   "metadata": {},
   "source": [
    "## Data Download"
   ]
  },
  {
   "cell_type": "markdown",
   "metadata": {},
   "source": [
    "**Method references:**<br>\n",
    "- https://www.analyticsvidhya.com/blog/2017/07/web-scraping-in-python-using-scrapy/<br>\n",
    "- https://www.datacamp.com/community/tutorials/making-web-crawlers-scrapy-python<br>\n",
    "- https://letslearnabout.net/tutorial/scrapy-tutorial/python-scrapy-tutorial-for-beginners-01-creating-your-first-spider/<br>\n",
    "- https://youtu.be/quMUjys9BcU<br>\n",
    "\n",
    "- https://towardsdatascience.com/scrape-multiple-pages-with-scrapy-ea8edfa4318<br>"
   ]
  },
  {
   "cell_type": "markdown",
   "metadata": {},
   "source": [
    "**Captions and photograph URLs were downloaded using Scrapy into a CSV file on my computer.**"
   ]
  },
  {
   "cell_type": "code",
   "execution_count": 51,
   "metadata": {},
   "outputs": [],
   "source": [
    "import numpy as np\n",
    "import pandas as pd\n",
    "import os\n",
    "import requests\n",
    "import time"
   ]
  },
  {
   "cell_type": "code",
   "execution_count": 52,
   "metadata": {},
   "outputs": [],
   "source": [
    "df = pd.read_csv(\"../Data/atlas_edits.csv\")"
   ]
  },
  {
   "cell_type": "code",
   "execution_count": 53,
   "metadata": {},
   "outputs": [
    {
     "data": {
      "text/html": [
       "<div>\n",
       "<style scoped>\n",
       "    .dataframe tbody tr th:only-of-type {\n",
       "        vertical-align: middle;\n",
       "    }\n",
       "\n",
       "    .dataframe tbody tr th {\n",
       "        vertical-align: top;\n",
       "    }\n",
       "\n",
       "    .dataframe thead th {\n",
       "        text-align: right;\n",
       "    }\n",
       "</style>\n",
       "<table border=\"1\" class=\"dataframe\">\n",
       "  <thead>\n",
       "    <tr style=\"text-align: right;\">\n",
       "      <th></th>\n",
       "      <th>url</th>\n",
       "      <th>description</th>\n",
       "      <th>response</th>\n",
       "    </tr>\n",
       "  </thead>\n",
       "  <tbody>\n",
       "    <tr>\n",
       "      <th>0</th>\n",
       "      <td>https://assets.atlasobscura.com/media/W1siZiIs...</td>\n",
       "      <td>A tangible and sobering reminder of an atrocit...</td>\n",
       "      <td>200</td>\n",
       "    </tr>\n",
       "    <tr>\n",
       "      <th>1</th>\n",
       "      <td>https://assets.atlasobscura.com/media/W1siZiIs...</td>\n",
       "      <td>Hidden in the forest are the crumbling, graffi...</td>\n",
       "      <td>200</td>\n",
       "    </tr>\n",
       "    <tr>\n",
       "      <th>2</th>\n",
       "      <td>https://assets.atlasobscura.com/media/W1siZiIs...</td>\n",
       "      <td>The Great Fire of London and the regulation of...</td>\n",
       "      <td>200</td>\n",
       "    </tr>\n",
       "    <tr>\n",
       "      <th>3</th>\n",
       "      <td>https://assets.atlasobscura.com/media/W1siZiIs...</td>\n",
       "      <td>This beautifully restored fort kept the city s...</td>\n",
       "      <td>200</td>\n",
       "    </tr>\n",
       "    <tr>\n",
       "      <th>4</th>\n",
       "      <td>https://assets.atlasobscura.com/media/W1siZiIs...</td>\n",
       "      <td>A former Roman town that was once the home of ...</td>\n",
       "      <td>200</td>\n",
       "    </tr>\n",
       "    <tr>\n",
       "      <th>...</th>\n",
       "      <td>...</td>\n",
       "      <td>...</td>\n",
       "      <td>...</td>\n",
       "    </tr>\n",
       "    <tr>\n",
       "      <th>19470</th>\n",
       "      <td>https://assets.atlasobscura.com/media/W1siZiIs...</td>\n",
       "      <td>A varied collection of brains in alcohol.</td>\n",
       "      <td>200</td>\n",
       "    </tr>\n",
       "    <tr>\n",
       "      <th>19471</th>\n",
       "      <td>https://assets.atlasobscura.com/media/W1siZiIs...</td>\n",
       "      <td>Dental instruments from the illustrious histor...</td>\n",
       "      <td>200</td>\n",
       "    </tr>\n",
       "    <tr>\n",
       "      <th>19472</th>\n",
       "      <td>https://assets.atlasobscura.com/media/W1siZiIs...</td>\n",
       "      <td>An ancient rock engraving shows Aboriginals us...</td>\n",
       "      <td>200</td>\n",
       "    </tr>\n",
       "    <tr>\n",
       "      <th>19473</th>\n",
       "      <td>https://assets.atlasobscura.com/media/W1siZiIs...</td>\n",
       "      <td>A vision of beautiful Hindu architecture in th...</td>\n",
       "      <td>200</td>\n",
       "    </tr>\n",
       "    <tr>\n",
       "      <th>19474</th>\n",
       "      <td>https://assets.atlasobscura.com/media/W1siZiIs...</td>\n",
       "      <td>6000-year-old site covered in more than 50 meg...</td>\n",
       "      <td>200</td>\n",
       "    </tr>\n",
       "  </tbody>\n",
       "</table>\n",
       "<p>19475 rows × 3 columns</p>\n",
       "</div>"
      ],
      "text/plain": [
       "                                                     url  \\\n",
       "0      https://assets.atlasobscura.com/media/W1siZiIs...   \n",
       "1      https://assets.atlasobscura.com/media/W1siZiIs...   \n",
       "2      https://assets.atlasobscura.com/media/W1siZiIs...   \n",
       "3      https://assets.atlasobscura.com/media/W1siZiIs...   \n",
       "4      https://assets.atlasobscura.com/media/W1siZiIs...   \n",
       "...                                                  ...   \n",
       "19470  https://assets.atlasobscura.com/media/W1siZiIs...   \n",
       "19471  https://assets.atlasobscura.com/media/W1siZiIs...   \n",
       "19472  https://assets.atlasobscura.com/media/W1siZiIs...   \n",
       "19473  https://assets.atlasobscura.com/media/W1siZiIs...   \n",
       "19474  https://assets.atlasobscura.com/media/W1siZiIs...   \n",
       "\n",
       "                                             description  response  \n",
       "0      A tangible and sobering reminder of an atrocit...       200  \n",
       "1      Hidden in the forest are the crumbling, graffi...       200  \n",
       "2      The Great Fire of London and the regulation of...       200  \n",
       "3      This beautifully restored fort kept the city s...       200  \n",
       "4      A former Roman town that was once the home of ...       200  \n",
       "...                                                  ...       ...  \n",
       "19470          A varied collection of brains in alcohol.       200  \n",
       "19471  Dental instruments from the illustrious histor...       200  \n",
       "19472  An ancient rock engraving shows Aboriginals us...       200  \n",
       "19473  A vision of beautiful Hindu architecture in th...       200  \n",
       "19474  6000-year-old site covered in more than 50 meg...       200  \n",
       "\n",
       "[19475 rows x 3 columns]"
      ]
     },
     "execution_count": 53,
     "metadata": {},
     "output_type": "execute_result"
    }
   ],
   "source": [
    "df"
   ]
  },
  {
   "cell_type": "code",
   "execution_count": 54,
   "metadata": {},
   "outputs": [
    {
     "data": {
      "text/plain": [
       "url            0\n",
       "description    0\n",
       "response       0\n",
       "dtype: int64"
      ]
     },
     "execution_count": 54,
     "metadata": {},
     "output_type": "execute_result"
    }
   ],
   "source": [
    "df.isnull().sum()"
   ]
  },
  {
   "cell_type": "code",
   "execution_count": 55,
   "metadata": {},
   "outputs": [
    {
     "data": {
      "text/plain": [
       "array([200])"
      ]
     },
     "execution_count": 55,
     "metadata": {},
     "output_type": "execute_result"
    }
   ],
   "source": [
    "df[\"response\"].unique()"
   ]
  },
  {
   "cell_type": "code",
   "execution_count": 56,
   "metadata": {},
   "outputs": [],
   "source": [
    "# for first run\n",
    "\n",
    "# print('Beginning file download.')\n",
    "\n",
    "# result_df = pd.DataFrame(index = df.index, columns = [\"Status\", \"Content-Type\"])\n",
    "# for i in range(0,len(df)):\n",
    "#     url = df.loc[i,\"url\"]\n",
    "#     r = requests.get(url)\n",
    "#     with open(\"../Data/Atlas_Images/\" + str(df.index[i]) + \".jpg\", 'wb') as f:\n",
    "#         f.write(r.content)\n",
    "#     print(\"Download of file number\",f\"str(df.index[{i}])\",\"complete.\")\n",
    "#     print(r.status_code)\n",
    "#     print(r.headers['content-type'])\n",
    "#     result_df.loc[i,\"Status\"] = r.status_code\n",
    "#     result_df.loc[i,\"Content-Type\"] = r.headers['content-type']\n",
    "#     time.sleep(5)\n",
    "\n",
    "# result_df"
   ]
  },
  {
   "cell_type": "markdown",
   "metadata": {},
   "source": [
    "## Data Exploration"
   ]
  },
  {
   "cell_type": "markdown",
   "metadata": {},
   "source": [
    "### Remove Duplicate Captions and Images"
   ]
  },
  {
   "cell_type": "code",
   "execution_count": 57,
   "metadata": {
    "scrolled": true
   },
   "outputs": [
    {
     "name": "stdout",
     "output_type": "stream",
     "text": [
      "19475\n",
      "19460\n"
     ]
    }
   ],
   "source": [
    "print(len(df))\n",
    "print(len(df[\"url\"].unique()))"
   ]
  },
  {
   "cell_type": "code",
   "execution_count": 58,
   "metadata": {},
   "outputs": [],
   "source": [
    "duplicates = df[df.duplicated(subset=['url'])]"
   ]
  },
  {
   "cell_type": "code",
   "execution_count": 59,
   "metadata": {
    "scrolled": true
   },
   "outputs": [
    {
     "data": {
      "text/plain": [
       "['7758.jpg',\n",
       " '9270.jpg',\n",
       " '9971.jpg',\n",
       " '12527.jpg',\n",
       " '12617.jpg',\n",
       " '12618.jpg',\n",
       " '13373.jpg',\n",
       " '13409.jpg',\n",
       " '13410.jpg',\n",
       " '14165.jpg',\n",
       " '19458.jpg',\n",
       " '19462.jpg',\n",
       " '19465.jpg',\n",
       " '19468.jpg',\n",
       " '19469.jpg']"
      ]
     },
     "execution_count": 59,
     "metadata": {},
     "output_type": "execute_result"
    }
   ],
   "source": [
    "deletion_list = [str(i) + \".jpg\" for i in list(duplicates.index)]\n",
    "deletion_list"
   ]
  },
  {
   "cell_type": "code",
   "execution_count": 60,
   "metadata": {
    "scrolled": false
   },
   "outputs": [],
   "source": [
    "df.drop(index = df[df.duplicated(subset=['url'])].index, inplace = True)"
   ]
  },
  {
   "cell_type": "code",
   "execution_count": 61,
   "metadata": {},
   "outputs": [],
   "source": [
    "directory = \"/Users/yannusinovich/Documents/GA-DSI-Tor/DSI-7-lessons-local/Capstone/Data/Atlas_Images/\"\n",
    "for filename in os.listdir(directory):\n",
    "    if filename in deletion_list:\n",
    "        os.remove(directory + filename)"
   ]
  },
  {
   "cell_type": "markdown",
   "metadata": {},
   "source": [
    "### Explore Caption Lengths"
   ]
  },
  {
   "cell_type": "code",
   "execution_count": 62,
   "metadata": {},
   "outputs": [],
   "source": [
    "df['total_words'] = df['description'].str.count(' ') + 1"
   ]
  },
  {
   "cell_type": "code",
   "execution_count": 63,
   "metadata": {},
   "outputs": [
    {
     "data": {
      "text/plain": [
       "36"
      ]
     },
     "execution_count": 63,
     "metadata": {},
     "output_type": "execute_result"
    }
   ],
   "source": [
    "max(df[\"total_words\"])"
   ]
  },
  {
   "cell_type": "code",
   "execution_count": 64,
   "metadata": {},
   "outputs": [
    {
     "data": {
      "text/plain": [
       "1"
      ]
     },
     "execution_count": 64,
     "metadata": {},
     "output_type": "execute_result"
    }
   ],
   "source": [
    "min(df[\"total_words\"])"
   ]
  },
  {
   "cell_type": "code",
   "execution_count": 65,
   "metadata": {},
   "outputs": [
    {
     "data": {
      "text/plain": [
       "14.085457348406988"
      ]
     },
     "execution_count": 65,
     "metadata": {},
     "output_type": "execute_result"
    }
   ],
   "source": [
    "np.mean(df[\"total_words\"])"
   ]
  },
  {
   "cell_type": "code",
   "execution_count": 66,
   "metadata": {},
   "outputs": [
    {
     "data": {
      "text/plain": [
       "14    0.089209\n",
       "13    0.088592\n",
       "15    0.087770\n",
       "12    0.084635\n",
       "16    0.081706\n",
       "17    0.074666\n",
       "11    0.070812\n",
       "18    0.061048\n",
       "10    0.060123\n",
       "9     0.049075\n",
       "19    0.047379\n",
       "8     0.039054\n",
       "20    0.034943\n",
       "7     0.028520\n",
       "21    0.025077\n",
       "22    0.017780\n",
       "6     0.016804\n",
       "5     0.009764\n",
       "23    0.009712\n",
       "24    0.006321\n",
       "25    0.004728\n",
       "4     0.004111\n",
       "26    0.002364\n",
       "3     0.001696\n",
       "27    0.001644\n",
       "28    0.000617\n",
       "2     0.000462\n",
       "29    0.000411\n",
       "30    0.000360\n",
       "31    0.000206\n",
       "1     0.000154\n",
       "32    0.000103\n",
       "36    0.000051\n",
       "35    0.000051\n",
       "34    0.000051\n",
       "Name: total_words, dtype: float64"
      ]
     },
     "execution_count": 66,
     "metadata": {},
     "output_type": "execute_result"
    }
   ],
   "source": [
    "df[\"total_words\"].value_counts(normalize = True)"
   ]
  },
  {
   "cell_type": "code",
   "execution_count": 67,
   "metadata": {},
   "outputs": [
    {
     "data": {
      "text/html": [
       "<div>\n",
       "<style scoped>\n",
       "    .dataframe tbody tr th:only-of-type {\n",
       "        vertical-align: middle;\n",
       "    }\n",
       "\n",
       "    .dataframe tbody tr th {\n",
       "        vertical-align: top;\n",
       "    }\n",
       "\n",
       "    .dataframe thead th {\n",
       "        text-align: right;\n",
       "    }\n",
       "</style>\n",
       "<table border=\"1\" class=\"dataframe\">\n",
       "  <thead>\n",
       "    <tr style=\"text-align: right;\">\n",
       "      <th></th>\n",
       "      <th>url</th>\n",
       "      <th>description</th>\n",
       "      <th>response</th>\n",
       "      <th>total_words</th>\n",
       "    </tr>\n",
       "  </thead>\n",
       "  <tbody>\n",
       "    <tr>\n",
       "      <th>10314</th>\n",
       "      <td>https://assets.atlasobscura.com/media/W1siZiIs...</td>\n",
       "      <td>Taumatawhakatangihangakoauauo\\ntamateaturipuka...</td>\n",
       "      <td>200</td>\n",
       "      <td>1</td>\n",
       "    </tr>\n",
       "    <tr>\n",
       "      <th>10359</th>\n",
       "      <td>https://assets.atlasobscura.com/media/W1siZiIs...</td>\n",
       "      <td>.</td>\n",
       "      <td>200</td>\n",
       "      <td>1</td>\n",
       "    </tr>\n",
       "    <tr>\n",
       "      <th>15396</th>\n",
       "      <td>https://assets.atlasobscura.com/media/W1siZiIs...</td>\n",
       "      <td>.</td>\n",
       "      <td>200</td>\n",
       "      <td>1</td>\n",
       "    </tr>\n",
       "  </tbody>\n",
       "</table>\n",
       "</div>"
      ],
      "text/plain": [
       "                                                     url  \\\n",
       "10314  https://assets.atlasobscura.com/media/W1siZiIs...   \n",
       "10359  https://assets.atlasobscura.com/media/W1siZiIs...   \n",
       "15396  https://assets.atlasobscura.com/media/W1siZiIs...   \n",
       "\n",
       "                                             description  response  \\\n",
       "10314  Taumatawhakatangihangakoauauo\\ntamateaturipuka...       200   \n",
       "10359                                                  .       200   \n",
       "15396                                                  .       200   \n",
       "\n",
       "       total_words  \n",
       "10314            1  \n",
       "10359            1  \n",
       "15396            1  "
      ]
     },
     "execution_count": 67,
     "metadata": {},
     "output_type": "execute_result"
    }
   ],
   "source": [
    "df[df[\"total_words\"] <= 1]"
   ]
  },
  {
   "cell_type": "markdown",
   "metadata": {},
   "source": [
    "### Delete Short Captions That Won't Train the Model, and Their Corresponding Images"
   ]
  },
  {
   "cell_type": "code",
   "execution_count": 68,
   "metadata": {},
   "outputs": [],
   "source": [
    "shorts = df[df[\"total_words\"] <= 1]"
   ]
  },
  {
   "cell_type": "code",
   "execution_count": 69,
   "metadata": {},
   "outputs": [
    {
     "data": {
      "text/plain": [
       "['10314.jpg', '10359.jpg', '15396.jpg']"
      ]
     },
     "execution_count": 69,
     "metadata": {},
     "output_type": "execute_result"
    }
   ],
   "source": [
    "deletion_list_2 = [str(i) + \".jpg\" for i in list(shorts.index)]\n",
    "deletion_list_2"
   ]
  },
  {
   "cell_type": "code",
   "execution_count": 70,
   "metadata": {},
   "outputs": [],
   "source": [
    "df.drop(index = df[df[\"total_words\"] <= 1].index, inplace = True)"
   ]
  },
  {
   "cell_type": "code",
   "execution_count": 71,
   "metadata": {},
   "outputs": [],
   "source": [
    "directory = \"/Users/yannusinovich/Documents/GA-DSI-Tor/DSI-7-lessons-local/Capstone/Data/Atlas_Images/\"\n",
    "for filename in os.listdir(directory):\n",
    "    if filename in deletion_list_2:\n",
    "        os.remove(directory + filename)"
   ]
  },
  {
   "cell_type": "code",
   "execution_count": 72,
   "metadata": {},
   "outputs": [
    {
     "data": {
      "text/html": [
       "<div>\n",
       "<style scoped>\n",
       "    .dataframe tbody tr th:only-of-type {\n",
       "        vertical-align: middle;\n",
       "    }\n",
       "\n",
       "    .dataframe tbody tr th {\n",
       "        vertical-align: top;\n",
       "    }\n",
       "\n",
       "    .dataframe thead th {\n",
       "        text-align: right;\n",
       "    }\n",
       "</style>\n",
       "<table border=\"1\" class=\"dataframe\">\n",
       "  <thead>\n",
       "    <tr style=\"text-align: right;\">\n",
       "      <th></th>\n",
       "      <th>url</th>\n",
       "      <th>description</th>\n",
       "      <th>response</th>\n",
       "      <th>total_words</th>\n",
       "    </tr>\n",
       "  </thead>\n",
       "  <tbody>\n",
       "    <tr>\n",
       "      <th>0</th>\n",
       "      <td>https://assets.atlasobscura.com/media/W1siZiIs...</td>\n",
       "      <td>A tangible and sobering reminder of an atrocit...</td>\n",
       "      <td>200</td>\n",
       "      <td>16</td>\n",
       "    </tr>\n",
       "    <tr>\n",
       "      <th>1</th>\n",
       "      <td>https://assets.atlasobscura.com/media/W1siZiIs...</td>\n",
       "      <td>Hidden in the forest are the crumbling, graffi...</td>\n",
       "      <td>200</td>\n",
       "      <td>23</td>\n",
       "    </tr>\n",
       "    <tr>\n",
       "      <th>2</th>\n",
       "      <td>https://assets.atlasobscura.com/media/W1siZiIs...</td>\n",
       "      <td>The Great Fire of London and the regulation of...</td>\n",
       "      <td>200</td>\n",
       "      <td>16</td>\n",
       "    </tr>\n",
       "    <tr>\n",
       "      <th>3</th>\n",
       "      <td>https://assets.atlasobscura.com/media/W1siZiIs...</td>\n",
       "      <td>This beautifully restored fort kept the city s...</td>\n",
       "      <td>200</td>\n",
       "      <td>21</td>\n",
       "    </tr>\n",
       "    <tr>\n",
       "      <th>4</th>\n",
       "      <td>https://assets.atlasobscura.com/media/W1siZiIs...</td>\n",
       "      <td>A former Roman town that was once the home of ...</td>\n",
       "      <td>200</td>\n",
       "      <td>12</td>\n",
       "    </tr>\n",
       "    <tr>\n",
       "      <th>...</th>\n",
       "      <td>...</td>\n",
       "      <td>...</td>\n",
       "      <td>...</td>\n",
       "      <td>...</td>\n",
       "    </tr>\n",
       "    <tr>\n",
       "      <th>19470</th>\n",
       "      <td>https://assets.atlasobscura.com/media/W1siZiIs...</td>\n",
       "      <td>A varied collection of brains in alcohol.</td>\n",
       "      <td>200</td>\n",
       "      <td>7</td>\n",
       "    </tr>\n",
       "    <tr>\n",
       "      <th>19471</th>\n",
       "      <td>https://assets.atlasobscura.com/media/W1siZiIs...</td>\n",
       "      <td>Dental instruments from the illustrious histor...</td>\n",
       "      <td>200</td>\n",
       "      <td>9</td>\n",
       "    </tr>\n",
       "    <tr>\n",
       "      <th>19472</th>\n",
       "      <td>https://assets.atlasobscura.com/media/W1siZiIs...</td>\n",
       "      <td>An ancient rock engraving shows Aboriginals us...</td>\n",
       "      <td>200</td>\n",
       "      <td>17</td>\n",
       "    </tr>\n",
       "    <tr>\n",
       "      <th>19473</th>\n",
       "      <td>https://assets.atlasobscura.com/media/W1siZiIs...</td>\n",
       "      <td>A vision of beautiful Hindu architecture in th...</td>\n",
       "      <td>200</td>\n",
       "      <td>13</td>\n",
       "    </tr>\n",
       "    <tr>\n",
       "      <th>19474</th>\n",
       "      <td>https://assets.atlasobscura.com/media/W1siZiIs...</td>\n",
       "      <td>6000-year-old site covered in more than 50 meg...</td>\n",
       "      <td>200</td>\n",
       "      <td>8</td>\n",
       "    </tr>\n",
       "  </tbody>\n",
       "</table>\n",
       "<p>19457 rows × 4 columns</p>\n",
       "</div>"
      ],
      "text/plain": [
       "                                                     url  \\\n",
       "0      https://assets.atlasobscura.com/media/W1siZiIs...   \n",
       "1      https://assets.atlasobscura.com/media/W1siZiIs...   \n",
       "2      https://assets.atlasobscura.com/media/W1siZiIs...   \n",
       "3      https://assets.atlasobscura.com/media/W1siZiIs...   \n",
       "4      https://assets.atlasobscura.com/media/W1siZiIs...   \n",
       "...                                                  ...   \n",
       "19470  https://assets.atlasobscura.com/media/W1siZiIs...   \n",
       "19471  https://assets.atlasobscura.com/media/W1siZiIs...   \n",
       "19472  https://assets.atlasobscura.com/media/W1siZiIs...   \n",
       "19473  https://assets.atlasobscura.com/media/W1siZiIs...   \n",
       "19474  https://assets.atlasobscura.com/media/W1siZiIs...   \n",
       "\n",
       "                                             description  response  \\\n",
       "0      A tangible and sobering reminder of an atrocit...       200   \n",
       "1      Hidden in the forest are the crumbling, graffi...       200   \n",
       "2      The Great Fire of London and the regulation of...       200   \n",
       "3      This beautifully restored fort kept the city s...       200   \n",
       "4      A former Roman town that was once the home of ...       200   \n",
       "...                                                  ...       ...   \n",
       "19470          A varied collection of brains in alcohol.       200   \n",
       "19471  Dental instruments from the illustrious histor...       200   \n",
       "19472  An ancient rock engraving shows Aboriginals us...       200   \n",
       "19473  A vision of beautiful Hindu architecture in th...       200   \n",
       "19474  6000-year-old site covered in more than 50 meg...       200   \n",
       "\n",
       "       total_words  \n",
       "0               16  \n",
       "1               23  \n",
       "2               16  \n",
       "3               21  \n",
       "4               12  \n",
       "...            ...  \n",
       "19470            7  \n",
       "19471            9  \n",
       "19472           17  \n",
       "19473           13  \n",
       "19474            8  \n",
       "\n",
       "[19457 rows x 4 columns]"
      ]
     },
     "execution_count": 72,
     "metadata": {},
     "output_type": "execute_result"
    }
   ],
   "source": [
    "df"
   ]
  },
  {
   "cell_type": "code",
   "execution_count": 73,
   "metadata": {},
   "outputs": [],
   "source": [
    "# these image files were not found\n",
    "df.drop(index = [168, 2904, 14242], inplace = True)"
   ]
  },
  {
   "cell_type": "code",
   "execution_count": 74,
   "metadata": {},
   "outputs": [],
   "source": [
    "df.to_csv(\"../Data/atlas_edits_clean.csv\", index = True)"
   ]
  },
  {
   "cell_type": "code",
   "execution_count": null,
   "metadata": {},
   "outputs": [],
   "source": []
  }
 ],
 "metadata": {
  "kernelspec": {
   "display_name": "Python 3",
   "language": "python",
   "name": "python3"
  },
  "language_info": {
   "codemirror_mode": {
    "name": "ipython",
    "version": 3
   },
   "file_extension": ".py",
   "mimetype": "text/x-python",
   "name": "python",
   "nbconvert_exporter": "python",
   "pygments_lexer": "ipython3",
   "version": "3.7.7"
  }
 },
 "nbformat": 4,
 "nbformat_minor": 4
}
