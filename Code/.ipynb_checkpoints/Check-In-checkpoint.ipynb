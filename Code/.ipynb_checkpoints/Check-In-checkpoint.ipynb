{
 "cells": [
  {
   "cell_type": "markdown",
   "metadata": {},
   "source": [
    "# Capstone Project:\n",
    "# Check-In"
   ]
  },
  {
   "cell_type": "markdown",
   "metadata": {},
   "source": [
    "1. Do you have data fully in hand and if not, what blockers are you facing?\n",
    "2. Have you done a full EDA on all of your data?\n",
    "3. Have you begun the modeling process? How accurate are your predictions so far?\n",
    "4. What blockers are you facing, including processing power, data acquisition, modeling difficulties, data cleaning, etc.? How can we help you overcome those challenges?\n",
    "5. Have you changed topics since your lightning talk? Since you submitted your Problem Statement and EDA? If so, do you have the necessary data in hand (and the requisite EDA completed) to continue moving forward?\n",
    "6. What is your timeline for the next week and a half? What do you have to get done versus what would you like to get done?\n",
    "7. What topics do you want to discuss during your 1:1?"
   ]
  },
  {
   "cell_type": "markdown",
   "metadata": {},
   "source": [
    "1. Yes, I have downloaded all the images and captions.\n",
    "2. Yes, I deleted the repeat images and the images with short captions that the model can't learn from.\n",
    "3. No, not yet, I am learning the relevant image processing techniques for project 5 and then I will implement them for the capstone.\n",
    "4. No blockers currently.\n",
    "5. I haven't changed topics.\n",
    "6. Timeline\n",
    "    1. Implement the model- May 11\n",
    "    2. Practice web posting- May 13\n",
    "    3. Run 100 test captions- May 15\n",
    "    4. Tune the model- May 17\n",
    "    5. Post the model- May 22\n",
    "7. I would like better conceptual understanding tuning neural networks."
   ]
  },
  {
   "cell_type": "code",
   "execution_count": null,
   "metadata": {},
   "outputs": [],
   "source": []
  }
 ],
 "metadata": {
  "kernelspec": {
   "display_name": "Python 3",
   "language": "python",
   "name": "python3"
  },
  "language_info": {
   "codemirror_mode": {
    "name": "ipython",
    "version": 3
   },
   "file_extension": ".py",
   "mimetype": "text/x-python",
   "name": "python",
   "nbconvert_exporter": "python",
   "pygments_lexer": "ipython3",
   "version": "3.7.7"
  }
 },
 "nbformat": 4,
 "nbformat_minor": 4
}
